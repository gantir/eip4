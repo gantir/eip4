{
  "nbformat": 4,
  "nbformat_minor": 0,
  "metadata": {
    "colab": {
      "name": "grad_cam.ipynb",
      "provenance": [],
      "collapsed_sections": []
    },
    "kernelspec": {
      "name": "python3",
      "display_name": "Python 3"
    },
    "accelerator": "GPU"
  },
  "cells": [
    {
      "cell_type": "code",
      "metadata": {
        "id": "I2vtjsYELfOp",
        "colab_type": "code",
        "colab": {}
      },
      "source": [
        "import os"
      ],
      "execution_count": 0,
      "outputs": []
    },
    {
      "cell_type": "code",
      "metadata": {
        "id": "OQ8KsZkPLoTj",
        "colab_type": "code",
        "colab": {}
      },
      "source": [
        "from google.colab import drive\n",
        "drive.mount('/content/drive')"
      ],
      "execution_count": 0,
      "outputs": []
    },
    {
      "cell_type": "code",
      "metadata": {
        "id": "o4TwyZt3LinE",
        "colab_type": "code",
        "colab": {}
      },
      "source": [
        "save_dir = os.path.join(os.getcwd(), 'drive/My Drive/Colab Notebooks/saved_models')\n",
        "model_path = save_dir+'/'+'cifar10_ResNet20v1_model.034.h5'"
      ],
      "execution_count": 0,
      "outputs": []
    },
    {
      "cell_type": "code",
      "metadata": {
        "id": "wC5iARj5L5gA",
        "colab_type": "code",
        "colab": {}
      },
      "source": [
        "from keras.preprocessing import image\n",
        "from keras.models import load_model\n",
        "import numpy as np\n",
        "import cv2\n",
        "\n",
        "from keras.applications.resnet import resnet, preprocess_input, decode_predictions\n",
        "from skimage import io"
      ],
      "execution_count": 0,
      "outputs": []
    },
    {
      "cell_type": "code",
      "metadata": {
        "id": "wjd--6KLMALV",
        "colab_type": "code",
        "colab": {}
      },
      "source": [
        "model = load_model(model_path)\n",
        "model.summary()"
      ],
      "execution_count": 0,
      "outputs": []
    }
  ]
}